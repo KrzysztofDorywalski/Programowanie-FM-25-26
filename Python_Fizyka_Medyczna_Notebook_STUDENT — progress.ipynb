{
 "cells": [
  {
   "cell_type": "markdown",
   "id": "fa3a3256",
   "metadata": {},
   "source": [
    "## Tydzień 1: Wprowadzenie – Python jako kalkulator\n",
    "**Zadanie 1:**\n",
    "1. Oblicz energię fotonu dla zadanej częstotliwości.\n",
    "2. Przelicz energię z eV na J."
   ]
  },
  {
   "cell_type": "markdown",
   "id": "e4cde177",
   "metadata": {},
   "source": [
    "💡 **Wskazówka:** Użyj wzoru $E = h \\cdot f$ oraz przelicznika $1\\,eV = 1.602^{-19}\\,J$. Stała Plancka $h = 6.626^{-34}$"
   ]
  },
  {
   "cell_type": "code",
   "execution_count": 20,
   "id": "5643e1e5",
   "metadata": {},
   "outputs": [],
   "source": [
    "# TODO: Uzupełnij kod tutaj\n"
   ]
  }
 ],
 "metadata": {
  "kernelspec": {
   "display_name": "Python 3 (ipykernel)",
   "language": "python",
   "name": "python3"
  },
  "language_info": {
   "codemirror_mode": {
    "name": "ipython",
    "version": 3
   },
   "file_extension": ".py",
   "mimetype": "text/x-python",
   "name": "python",
   "nbconvert_exporter": "python",
   "pygments_lexer": "ipython3",
   "version": "3.12.7"
  }
 },
 "nbformat": 4,
 "nbformat_minor": 5
}
